{
 "cells": [
  {
   "cell_type": "markdown",
   "id": "2503a3e3-a940-4e63-b1cd-33828045fe43",
   "metadata": {},
   "source": [
    "## Palindrome"
   ]
  },
  {
   "cell_type": "code",
   "execution_count": 2,
   "id": "614d4fba-9179-4cf4-9ad7-75ce145c58aa",
   "metadata": {
    "tags": []
   },
   "outputs": [],
   "source": [
    "import pandas as pd\n",
    "import numpy as np\n",
    "import matplotlib.pyplot as plt\n",
    "import re\n",
    "\n",
    "pd.set_option('display.max_columns',None)"
   ]
  },
  {
   "cell_type": "markdown",
   "id": "ffb90541-3f12-4954-8c58-d51406de0663",
   "metadata": {},
   "source": [
    "### 1."
   ]
  },
  {
   "cell_type": "code",
   "execution_count": 7,
   "id": "0e59ee97-efeb-41e2-93cf-392c1c80a030",
   "metadata": {
    "tags": []
   },
   "outputs": [
    {
     "data": {
      "text/plain": [
       "(104, 9)"
      ]
     },
     "execution_count": 7,
     "metadata": {},
     "output_type": "execute_result"
    }
   ],
   "source": [
    "df = pd.read_excel('pone_0212445_s004.xlsx',header=1)\n",
    "df.shape"
   ]
  },
  {
   "cell_type": "code",
   "execution_count": 8,
   "id": "b5b32bb8-8e05-4f31-8291-5555d19b920b",
   "metadata": {
    "tags": []
   },
   "outputs": [
    {
     "data": {
      "text/html": [
       "<div>\n",
       "<style scoped>\n",
       "    .dataframe tbody tr th:only-of-type {\n",
       "        vertical-align: middle;\n",
       "    }\n",
       "\n",
       "    .dataframe tbody tr th {\n",
       "        vertical-align: top;\n",
       "    }\n",
       "\n",
       "    .dataframe thead th {\n",
       "        text-align: right;\n",
       "    }\n",
       "</style>\n",
       "<table border=\"1\" class=\"dataframe\">\n",
       "  <thead>\n",
       "    <tr style=\"text-align: right;\">\n",
       "      <th></th>\n",
       "      <th>District</th>\n",
       "      <th>Code</th>\n",
       "      <th>Estimate</th>\n",
       "      <th>Prevalence_%</th>\n",
       "      <th>Prevalence_LCL</th>\n",
       "      <th>Prevalence_UCL</th>\n",
       "      <th>NoPLHIV</th>\n",
       "      <th>NoPLHIV_LCL</th>\n",
       "      <th>NoPLHIV_UCL</th>\n",
       "    </tr>\n",
       "  </thead>\n",
       "  <tbody>\n",
       "    <tr>\n",
       "      <th>0</th>\n",
       "      <td>Buffalo City</td>\n",
       "      <td>BUF</td>\n",
       "      <td>Survey</td>\n",
       "      <td>13.600000</td>\n",
       "      <td>10.268000</td>\n",
       "      <td>16.932000</td>\n",
       "      <td>102437</td>\n",
       "      <td>77340</td>\n",
       "      <td>127534</td>\n",
       "    </tr>\n",
       "    <tr>\n",
       "      <th>1</th>\n",
       "      <td>Buffalo City</td>\n",
       "      <td>BUF</td>\n",
       "      <td>Fay-Heriott</td>\n",
       "      <td>13.501283</td>\n",
       "      <td>11.031605</td>\n",
       "      <td>16.421802</td>\n",
       "      <td>101693</td>\n",
       "      <td>83092</td>\n",
       "      <td>123691</td>\n",
       "    </tr>\n",
       "    <tr>\n",
       "      <th>2</th>\n",
       "      <td>City of Cape Town</td>\n",
       "      <td>CPT</td>\n",
       "      <td>Survey</td>\n",
       "      <td>5.200000</td>\n",
       "      <td>3.044000</td>\n",
       "      <td>7.356000</td>\n",
       "      <td>200751</td>\n",
       "      <td>117517</td>\n",
       "      <td>283985</td>\n",
       "    </tr>\n",
       "    <tr>\n",
       "      <th>3</th>\n",
       "      <td>City of Cape Town</td>\n",
       "      <td>CPT</td>\n",
       "      <td>Fay-Heriott</td>\n",
       "      <td>6.020043</td>\n",
       "      <td>4.335072</td>\n",
       "      <td>8.303091</td>\n",
       "      <td>232409</td>\n",
       "      <td>167359</td>\n",
       "      <td>320548</td>\n",
       "    </tr>\n",
       "    <tr>\n",
       "      <th>4</th>\n",
       "      <td>West Coast</td>\n",
       "      <td>DC1</td>\n",
       "      <td>Survey</td>\n",
       "      <td>2.700000</td>\n",
       "      <td>0.000000</td>\n",
       "      <td>5.444000</td>\n",
       "      <td>11302</td>\n",
       "      <td>0</td>\n",
       "      <td>22789</td>\n",
       "    </tr>\n",
       "  </tbody>\n",
       "</table>\n",
       "</div>"
      ],
      "text/plain": [
       "            District Code     Estimate  Prevalence_%  Prevalence_LCL  \\\n",
       "0       Buffalo City  BUF       Survey     13.600000       10.268000   \n",
       "1       Buffalo City  BUF  Fay-Heriott     13.501283       11.031605   \n",
       "2  City of Cape Town  CPT       Survey      5.200000        3.044000   \n",
       "3  City of Cape Town  CPT  Fay-Heriott      6.020043        4.335072   \n",
       "4         West Coast  DC1       Survey      2.700000        0.000000   \n",
       "\n",
       "   Prevalence_UCL  NoPLHIV  NoPLHIV_LCL  NoPLHIV_UCL  \n",
       "0       16.932000   102437        77340       127534  \n",
       "1       16.421802   101693        83092       123691  \n",
       "2        7.356000   200751       117517       283985  \n",
       "3        8.303091   232409       167359       320548  \n",
       "4        5.444000    11302            0        22789  "
      ]
     },
     "execution_count": 8,
     "metadata": {},
     "output_type": "execute_result"
    }
   ],
   "source": [
    "df.head()"
   ]
  },
  {
   "cell_type": "code",
   "execution_count": null,
   "id": "a3755828-f308-4437-bb39-ba25305546fe",
   "metadata": {},
   "outputs": [],
   "source": []
  },
  {
   "cell_type": "markdown",
   "id": "deeabcf1-56dd-4c37-9846-c805033eb823",
   "metadata": {},
   "source": [
    "### 2."
   ]
  },
  {
   "cell_type": "markdown",
   "id": "67bc7db0-1b95-47e5-98af-459ee1d6483d",
   "metadata": {},
   "source": [
    "##### a."
   ]
  },
  {
   "cell_type": "code",
   "execution_count": 10,
   "id": "266cb0f7-a9a9-4403-950d-7606196e9df4",
   "metadata": {
    "tags": []
   },
   "outputs": [
    {
     "name": "stdout",
     "output_type": "stream",
     "text": [
      "6409903\n"
     ]
    }
   ],
   "source": [
    "df_a = df[df[\"Estimate\"]==\"Survey\"].copy()\n",
    "print(df_a[\"NoPLHIV\"].sum())"
   ]
  },
  {
   "cell_type": "markdown",
   "id": "eb464798-df34-45aa-9052-4403da01185e",
   "metadata": {},
   "source": [
    "##### b."
   ]
  },
  {
   "cell_type": "code",
   "execution_count": 16,
   "id": "3c0bfa66-5573-475f-abf0-fec965191794",
   "metadata": {
    "tags": []
   },
   "outputs": [
    {
     "data": {
      "text/plain": [
       "12247.5"
      ]
     },
     "execution_count": 16,
     "metadata": {},
     "output_type": "execute_result"
    }
   ],
   "source": [
    "df_b=df[df[\"District\"]==\"Xhariep\"].copy()\n",
    "np.round(df_b[\"NoPLHIV\"].mean(),2)"
   ]
  },
  {
   "cell_type": "code",
   "execution_count": null,
   "id": "431d4314-b992-4a91-93fe-72cbf0b2ca8a",
   "metadata": {},
   "outputs": [],
   "source": []
  },
  {
   "cell_type": "markdown",
   "id": "9ddf620a-69bd-43db-b188-ff723808960e",
   "metadata": {
    "tags": []
   },
   "source": [
    "##### c. "
   ]
  },
  {
   "cell_type": "code",
   "execution_count": 22,
   "id": "8c0ea3bf-29e7-4deb-ad45-0cbe9c26d251",
   "metadata": {
    "tags": []
   },
   "outputs": [
    {
     "data": {
      "text/html": [
       "<div>\n",
       "<style scoped>\n",
       "    .dataframe tbody tr th:only-of-type {\n",
       "        vertical-align: middle;\n",
       "    }\n",
       "\n",
       "    .dataframe tbody tr th {\n",
       "        vertical-align: top;\n",
       "    }\n",
       "\n",
       "    .dataframe thead th {\n",
       "        text-align: right;\n",
       "    }\n",
       "</style>\n",
       "<table border=\"1\" class=\"dataframe\">\n",
       "  <thead>\n",
       "    <tr style=\"text-align: right;\">\n",
       "      <th></th>\n",
       "      <th>District</th>\n",
       "      <th>Code</th>\n",
       "      <th>Estimate</th>\n",
       "      <th>Prevalence_%</th>\n",
       "      <th>Prevalence_LCL</th>\n",
       "      <th>Prevalence_UCL</th>\n",
       "      <th>NoPLHIV</th>\n",
       "      <th>NoPLHIV_LCL</th>\n",
       "      <th>NoPLHIV_UCL</th>\n",
       "      <th>notHIV</th>\n",
       "    </tr>\n",
       "  </thead>\n",
       "  <tbody>\n",
       "    <tr>\n",
       "      <th>0</th>\n",
       "      <td>Buffalo City</td>\n",
       "      <td>BUF</td>\n",
       "      <td>Survey</td>\n",
       "      <td>13.600000</td>\n",
       "      <td>10.268000</td>\n",
       "      <td>16.932000</td>\n",
       "      <td>102437</td>\n",
       "      <td>77340</td>\n",
       "      <td>127534</td>\n",
       "      <td>6.507762e+05</td>\n",
       "    </tr>\n",
       "    <tr>\n",
       "      <th>1</th>\n",
       "      <td>Buffalo City</td>\n",
       "      <td>BUF</td>\n",
       "      <td>Fay-Heriott</td>\n",
       "      <td>13.501283</td>\n",
       "      <td>11.031605</td>\n",
       "      <td>16.421802</td>\n",
       "      <td>101693</td>\n",
       "      <td>83092</td>\n",
       "      <td>123691</td>\n",
       "      <td>6.515169e+05</td>\n",
       "    </tr>\n",
       "    <tr>\n",
       "      <th>2</th>\n",
       "      <td>City of Cape Town</td>\n",
       "      <td>CPT</td>\n",
       "      <td>Survey</td>\n",
       "      <td>5.200000</td>\n",
       "      <td>3.044000</td>\n",
       "      <td>7.356000</td>\n",
       "      <td>200751</td>\n",
       "      <td>117517</td>\n",
       "      <td>283985</td>\n",
       "      <td>3.659845e+06</td>\n",
       "    </tr>\n",
       "    <tr>\n",
       "      <th>3</th>\n",
       "      <td>City of Cape Town</td>\n",
       "      <td>CPT</td>\n",
       "      <td>Fay-Heriott</td>\n",
       "      <td>6.020043</td>\n",
       "      <td>4.335072</td>\n",
       "      <td>8.303091</td>\n",
       "      <td>232409</td>\n",
       "      <td>167359</td>\n",
       "      <td>320548</td>\n",
       "      <td>3.628178e+06</td>\n",
       "    </tr>\n",
       "    <tr>\n",
       "      <th>4</th>\n",
       "      <td>West Coast</td>\n",
       "      <td>DC1</td>\n",
       "      <td>Survey</td>\n",
       "      <td>2.700000</td>\n",
       "      <td>0.000000</td>\n",
       "      <td>5.444000</td>\n",
       "      <td>11302</td>\n",
       "      <td>0</td>\n",
       "      <td>22789</td>\n",
       "      <td>4.072906e+05</td>\n",
       "    </tr>\n",
       "  </tbody>\n",
       "</table>\n",
       "</div>"
      ],
      "text/plain": [
       "            District Code     Estimate  Prevalence_%  Prevalence_LCL  \\\n",
       "0       Buffalo City  BUF       Survey     13.600000       10.268000   \n",
       "1       Buffalo City  BUF  Fay-Heriott     13.501283       11.031605   \n",
       "2  City of Cape Town  CPT       Survey      5.200000        3.044000   \n",
       "3  City of Cape Town  CPT  Fay-Heriott      6.020043        4.335072   \n",
       "4         West Coast  DC1       Survey      2.700000        0.000000   \n",
       "\n",
       "   Prevalence_UCL  NoPLHIV  NoPLHIV_LCL  NoPLHIV_UCL        notHIV  \n",
       "0       16.932000   102437        77340       127534  6.507762e+05  \n",
       "1       16.421802   101693        83092       123691  6.515169e+05  \n",
       "2        7.356000   200751       117517       283985  3.659845e+06  \n",
       "3        8.303091   232409       167359       320548  3.628178e+06  \n",
       "4        5.444000    11302            0        22789  4.072906e+05  "
      ]
     },
     "execution_count": 22,
     "metadata": {},
     "output_type": "execute_result"
    }
   ],
   "source": [
    "df_c = df.copy()\n",
    "df_c[\"notHIV\"] = df_c.apply(lambda x: ((100*x[\"NoPLHIV\"])/x[\"Prevalence_%\"])*(1-(x[\"Prevalence_%\"]/100)), axis=1)\n",
    "df_c.head()"
   ]
  },
  {
   "cell_type": "code",
   "execution_count": null,
   "id": "2e2cd64a-f3c3-47df-a42c-8a68ec180670",
   "metadata": {},
   "outputs": [],
   "source": []
  },
  {
   "cell_type": "markdown",
   "id": "599435c1-074b-4599-a2e8-6bcb2e8607f7",
   "metadata": {},
   "source": [
    "##### d."
   ]
  },
  {
   "cell_type": "code",
   "execution_count": 26,
   "id": "6179bdef-98e5-4e0c-9554-a79d76abd1f4",
   "metadata": {
    "tags": []
   },
   "outputs": [
    {
     "data": {
      "text/plain": [
       "2572733"
      ]
     },
     "execution_count": 26,
     "metadata": {},
     "output_type": "execute_result"
    }
   ],
   "source": [
    "df_d = df[df[\"District\"].str.contains(\"City|Metro\",case=False)].copy()\n",
    "df_d[\"NoPLHIV\"].sum()"
   ]
  },
  {
   "cell_type": "code",
   "execution_count": null,
   "id": "fc8a5a3b-cb5c-4f56-9a87-02e35af3d63e",
   "metadata": {},
   "outputs": [],
   "source": []
  },
  {
   "cell_type": "code",
   "execution_count": null,
   "id": "239ba06e-0e41-4a74-8729-fa650488fb90",
   "metadata": {},
   "outputs": [],
   "source": []
  },
  {
   "cell_type": "markdown",
   "id": "58f51e6b-9999-457b-b0bf-211219d4b99e",
   "metadata": {},
   "source": [
    "### 3."
   ]
  },
  {
   "cell_type": "code",
   "execution_count": 41,
   "id": "939cf566-96e1-448a-9831-662fc912258c",
   "metadata": {
    "tags": []
   },
   "outputs": [
    {
     "data": {
      "text/plain": [
       "Index(['District', 'Code', 'Estimate', 'Prevalence', 'Prevalence LCL',\n",
       "       'Prevalence UCL', 'NoPLHIV', 'NoPLHIV LCL', 'NoPLHIV UCL'],\n",
       "      dtype='object')"
      ]
     },
     "execution_count": 41,
     "metadata": {},
     "output_type": "execute_result"
    }
   ],
   "source": [
    "df_3 = df.copy()\n",
    "new_cols = [re.search(r'\\w+',x).group().replace(\"_\",\" \") for x in df.columns]\n",
    "new_cols = [x.strip() for x in new_cols]\n",
    "df_3.columns = new_cols\n",
    "df_3.columns"
   ]
  },
  {
   "cell_type": "code",
   "execution_count": null,
   "id": "c97922ce-d128-4c75-bbf7-a5fa6a438b8c",
   "metadata": {},
   "outputs": [],
   "source": []
  },
  {
   "cell_type": "code",
   "execution_count": null,
   "id": "eb3c919a-5d5f-4700-9e52-9434909b881a",
   "metadata": {},
   "outputs": [],
   "source": []
  },
  {
   "cell_type": "markdown",
   "id": "843142a3-f1eb-4372-8c59-208e1c0cff53",
   "metadata": {},
   "source": [
    "### 4."
   ]
  },
  {
   "cell_type": "code",
   "execution_count": 43,
   "id": "36fec034-0026-42dd-871a-776325e0f717",
   "metadata": {
    "tags": []
   },
   "outputs": [],
   "source": [
    "df_4 = df[df[\"Estimate\"]==\"Fay-Heriott\"].copy()\n",
    "df_4 = df_4[df_4[\"District\"].str.endswith('i')]"
   ]
  },
  {
   "cell_type": "code",
   "execution_count": 45,
   "id": "d9e2c76e-d6aa-48d1-a526-02290b638a50",
   "metadata": {
    "tags": []
   },
   "outputs": [
    {
     "data": {
      "text/html": [
       "<div>\n",
       "<style scoped>\n",
       "    .dataframe tbody tr th:only-of-type {\n",
       "        vertical-align: middle;\n",
       "    }\n",
       "\n",
       "    .dataframe tbody tr th {\n",
       "        vertical-align: top;\n",
       "    }\n",
       "\n",
       "    .dataframe thead th {\n",
       "        text-align: right;\n",
       "    }\n",
       "</style>\n",
       "<table border=\"1\" class=\"dataframe\">\n",
       "  <thead>\n",
       "    <tr style=\"text-align: right;\">\n",
       "      <th></th>\n",
       "      <th>District</th>\n",
       "      <th>Code</th>\n",
       "      <th>Estimate</th>\n",
       "      <th>Prevalence_%</th>\n",
       "      <th>Prevalence_LCL</th>\n",
       "      <th>Prevalence_UCL</th>\n",
       "      <th>NoPLHIV</th>\n",
       "      <th>NoPLHIV_LCL</th>\n",
       "      <th>NoPLHIV_UCL</th>\n",
       "    </tr>\n",
       "  </thead>\n",
       "  <tbody>\n",
       "    <tr>\n",
       "      <th>11</th>\n",
       "      <td>Chris Hani</td>\n",
       "      <td>DC13</td>\n",
       "      <td>Fay-Heriott</td>\n",
       "      <td>14.080983</td>\n",
       "      <td>11.181220</td>\n",
       "      <td>17.583893</td>\n",
       "      <td>113090</td>\n",
       "      <td>89801</td>\n",
       "      <td>141224</td>\n",
       "    </tr>\n",
       "    <tr>\n",
       "      <th>13</th>\n",
       "      <td>Joe Gqabi</td>\n",
       "      <td>DC14</td>\n",
       "      <td>Fay-Heriott</td>\n",
       "      <td>11.507804</td>\n",
       "      <td>9.291766</td>\n",
       "      <td>14.169794</td>\n",
       "      <td>40618</td>\n",
       "      <td>32796</td>\n",
       "      <td>50013</td>\n",
       "    </tr>\n",
       "    <tr>\n",
       "      <th>25</th>\n",
       "      <td>Fezile Dabi</td>\n",
       "      <td>DC20</td>\n",
       "      <td>Fay-Heriott</td>\n",
       "      <td>10.030754</td>\n",
       "      <td>7.811309</td>\n",
       "      <td>12.793304</td>\n",
       "      <td>50767</td>\n",
       "      <td>39534</td>\n",
       "      <td>64748</td>\n",
       "    </tr>\n",
       "    <tr>\n",
       "      <th>33</th>\n",
       "      <td>uMzinyathi</td>\n",
       "      <td>DC24</td>\n",
       "      <td>Fay-Heriott</td>\n",
       "      <td>18.097578</td>\n",
       "      <td>16.845087</td>\n",
       "      <td>19.421445</td>\n",
       "      <td>93061</td>\n",
       "      <td>86620</td>\n",
       "      <td>99868</td>\n",
       "    </tr>\n",
       "    <tr>\n",
       "      <th>51</th>\n",
       "      <td>Ehlanzeni</td>\n",
       "      <td>DC32</td>\n",
       "      <td>Fay-Heriott</td>\n",
       "      <td>15.820960</td>\n",
       "      <td>12.012425</td>\n",
       "      <td>20.554906</td>\n",
       "      <td>271179</td>\n",
       "      <td>205899</td>\n",
       "      <td>352321</td>\n",
       "    </tr>\n",
       "  </tbody>\n",
       "</table>\n",
       "</div>"
      ],
      "text/plain": [
       "       District  Code     Estimate  Prevalence_%  Prevalence_LCL  \\\n",
       "11   Chris Hani  DC13  Fay-Heriott     14.080983       11.181220   \n",
       "13    Joe Gqabi  DC14  Fay-Heriott     11.507804        9.291766   \n",
       "25  Fezile Dabi  DC20  Fay-Heriott     10.030754        7.811309   \n",
       "33   uMzinyathi  DC24  Fay-Heriott     18.097578       16.845087   \n",
       "51    Ehlanzeni  DC32  Fay-Heriott     15.820960       12.012425   \n",
       "\n",
       "    Prevalence_UCL  NoPLHIV  NoPLHIV_LCL  NoPLHIV_UCL  \n",
       "11       17.583893   113090        89801       141224  \n",
       "13       14.169794    40618        32796        50013  \n",
       "25       12.793304    50767        39534        64748  \n",
       "33       19.421445    93061        86620        99868  \n",
       "51       20.554906   271179       205899       352321  "
      ]
     },
     "execution_count": 45,
     "metadata": {},
     "output_type": "execute_result"
    }
   ],
   "source": [
    "df_4.head()"
   ]
  },
  {
   "cell_type": "code",
   "execution_count": 49,
   "id": "bfbcf2e2-08c4-4373-a7f9-63dc099956d9",
   "metadata": {
    "tags": []
   },
   "outputs": [
    {
     "data": {
      "text/plain": [
       "(9, 9)"
      ]
     },
     "execution_count": 49,
     "metadata": {},
     "output_type": "execute_result"
    }
   ],
   "source": [
    "df_4.shape"
   ]
  },
  {
   "cell_type": "code",
   "execution_count": 54,
   "id": "7dbc8bef-e6c2-49d5-b106-4e20a95813a6",
   "metadata": {
    "tags": []
   },
   "outputs": [
    {
     "data": {
      "image/png": "[encoded data removed]",
      "text/plain": [
       "<Figure size 640x480 with 1 Axes>"
      ]
     },
     "metadata": {},
     "output_type": "display_data"
    }
   ],
   "source": [
    "x_positions = [1,2,3,4,5,6,7,8,9]\n",
    "chart_labels = df_4[\"District\"]\n",
    "lower = df_4[\"NoPLHIV_LCL\"]\n",
    "upper = df_4[\"NoPLHIV_UCL\"]\n",
    "\n",
    "ax = plt.subplot()\n",
    "plt.scatter(x_positions,lower,color = 'red')\n",
    "plt.scatter(x_positions,upper,color = 'blue')\n",
    "plt.legend(['lower bound', 'upper bound'], loc='best')\n",
    "plt.xticks(x_positions,chart_labels, rotation=45)\n",
    "plt.title('Confidence Intervals')\n",
    "\n",
    "plt.show()"
   ]
  },
  {
   "cell_type": "code",
   "execution_count": null,
   "id": "e469fb1a-7e63-4855-ad25-d23b86e55069",
   "metadata": {},
   "outputs": [],
   "source": []
  },
  {
   "cell_type": "code",
   "execution_count": null,
   "id": "c20e7103-14a2-4ba3-9a88-83665993ef66",
   "metadata": {},
   "outputs": [],
   "source": []
  },
  {
   "cell_type": "code",
   "execution_count": null,
   "id": "e409d414-ab46-4988-b6a7-01362dc1a865",
   "metadata": {},
   "outputs": [],
   "source": []
  }
 ],
 "metadata": {
  "kernelspec": {
   "display_name": "Python 3 (ipykernel)",
   "language": "python",
   "name": "python3"
  },
  "language_info": {
   "codemirror_mode": {
    "name": "ipython",
    "version": 3
   },
   "file_extension": ".py",
   "mimetype": "text/x-python",
   "name": "python",
   "nbconvert_exporter": "python",
   "pygments_lexer": "ipython3",
   "version": "3.11.5"
  }
 },
 "nbformat": 4,
 "nbformat_minor": 5
}
